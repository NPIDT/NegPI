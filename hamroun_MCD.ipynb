{
 "cells": [
  {
   "cell_type": "code",
   "execution_count": 1,
   "metadata": {},
   "outputs": [],
   "source": [
    "import pandas as pd\n",
    "import numpy as np\n",
    "from ark_tweet_nlp import CMUTweetTagger\n",
    "from tqdm import tqdm_notebook as tqdm\n",
    "from nltk.stem import WordNetLemmatizer\n",
    "from nltk.tokenize import word_tokenize\n",
    "from sklearn.metrics import f1_score, precision_score, recall_score, roc_auc_score\n",
    "import pickle\n",
    "import copy\n",
    "import re"
   ]
  },
  {
   "cell_type": "markdown",
   "metadata": {},
   "source": [
    "The processed data contains pre-processed text to search for patterns. This time we don't need the neighborhoods for hashtag information as the hashtags don't contain any negative-PI-related information in the McDonald's data set."
   ]
  },
  {
   "cell_type": "code",
   "execution_count": 2,
   "metadata": {},
   "outputs": [],
   "source": [
    "\"\"\"Loading the tagged data and the 5-words neighborhoods \"\"\"\n",
    "data = pickle.load(open('./processed_MCD.b', 'rb'))"
   ]
  },
  {
   "cell_type": "code",
   "execution_count": 3,
   "metadata": {},
   "outputs": [],
   "source": [
    "\"\"\"Preparing the data\"\"\"\n",
    "data['tokens'] = data.text.apply(lambda x: word_tokenize(x.lower()))"
   ]
  },
  {
   "cell_type": "code",
   "execution_count": 6,
   "metadata": {},
   "outputs": [
    {
     "data": {
      "application/vnd.jupyter.widget-view+json": {
       "model_id": "10fc7f4ef22d4271b8701585664fbe5f",
       "version_major": 2,
       "version_minor": 0
      },
      "text/plain": [
       "HBox(children=(IntProgress(value=0, description='Going through the neighborhoods for 2 conditions', max=23102)…"
      ]
     },
     "metadata": {},
     "output_type": "display_data"
    },
    {
     "name": "stdout",
     "output_type": "stream",
     "text": [
      "\n",
      "Using 2 conditions : negative PI verb, negation word + positive PI verb with hashtags\n",
      "F1 score obtained through the fully supervised method : 0.49233656553018457\n",
      "Precision obtained through the fully supervised method : 0.4607728337236534\n",
      "Recall score obtained through the fully supervised method : 0.5285426460711887\n"
     ]
    }
   ],
   "source": [
    "\"\"\"Pattern flagging\"\"\"\n",
    "\n",
    "\"\"\"Structuring the words into stand alone identifiers, negative paired identifiers, negative indicators, BA indicators, and other fluff\"\"\"\n",
    "stand_alone = ['boycott','bycott','boycot','bycot','avoid']\n",
    "neg_paired = ['eat','get','have','buy']\n",
    "neg_ind = ['never','not','dont','shouldnt','no','wont','wouldnt']\n",
    "lmtzr = WordNetLemmatizer()\n",
    "\n",
    "ys = list(data.pi)\n",
    "\n",
    "pred_2 = []\n",
    "for k in tqdm(range(data.shape[0]), desc='Going through the neighborhoods for 2 conditions'):\n",
    "    label = False\n",
    "    for i in range(len(data.tokens.iloc[k])):\n",
    "        if lmtzr.lemmatize(data.tokens.iloc[k][i],'v') in stand_alone:\n",
    "            label = True\n",
    "        if data.tokens.iloc[k][i] in neg_ind:\n",
    "            for j in range(i,min(len(data.tokens.iloc[k]),i+4)):\n",
    "                if lmtzr.lemmatize(data.tokens.iloc[k][j],'v') in neg_paired:\n",
    "                    label = True\n",
    "                    break\n",
    "        if label:\n",
    "            pred_2.append(1)\n",
    "            break\n",
    "    \"\"\"Labeling as a non negative PI tweet if no condition is met\"\"\"\n",
    "    if not label:\n",
    "        pred_2.append(0)\n",
    "        \n",
    "print('Using 2 conditions : negative PI verb, negation word + positive PI verb with hashtags')\n",
    "print('F1 score obtained through the fully supervised method : {}'.format(f1_score(y_true=ys, y_pred=pred_2)))\n",
    "print('Precision obtained through the fully supervised method : {}'.format(precision_score(y_true=ys, y_pred=pred_2)))\n",
    "print('Recall score obtained through the fully supervised method : {}'.format(recall_score(y_true=ys, y_pred=pred_2)))"
   ]
  }
 ],
 "metadata": {
  "kernelspec": {
   "display_name": "Python 3",
   "language": "python",
   "name": "python3"
  },
  "language_info": {
   "codemirror_mode": {
    "name": "ipython",
    "version": 3
   },
   "file_extension": ".py",
   "mimetype": "text/x-python",
   "name": "python",
   "nbconvert_exporter": "python",
   "pygments_lexer": "ipython3",
   "version": "3.6.5"
  }
 },
 "nbformat": 4,
 "nbformat_minor": 2
}
