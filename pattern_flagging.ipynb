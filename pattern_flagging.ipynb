{
 "cells": [
  {
   "cell_type": "code",
   "execution_count": 1,
   "metadata": {},
   "outputs": [
    {
     "name": "stderr",
     "output_type": "stream",
     "text": [
      "/home/qrg-researchlab/anaconda3/lib/python3.6/importlib/_bootstrap.py:219: RuntimeWarning: numpy.dtype size changed, may indicate binary incompatibility. Expected 96, got 88\n",
      "  return f(*args, **kwds)\n",
      "/home/qrg-researchlab/anaconda3/lib/python3.6/importlib/_bootstrap.py:219: RuntimeWarning: numpy.dtype size changed, may indicate binary incompatibility. Expected 96, got 88\n",
      "  return f(*args, **kwds)\n",
      "/home/qrg-researchlab/anaconda3/lib/python3.6/importlib/_bootstrap.py:219: RuntimeWarning: numpy.dtype size changed, may indicate binary incompatibility. Expected 96, got 88\n",
      "  return f(*args, **kwds)\n",
      "/home/qrg-researchlab/anaconda3/lib/python3.6/importlib/_bootstrap.py:219: RuntimeWarning: numpy.dtype size changed, may indicate binary incompatibility. Expected 96, got 88\n",
      "  return f(*args, **kwds)\n"
     ]
    }
   ],
   "source": [
    "import pandas as pd\n",
    "import numpy as np\n",
    "from ark_tweet_nlp import CMUTweetTagger\n",
    "from tqdm import tqdm_notebook as tqdm\n",
    "from nltk.stem import WordNetLemmatizer\n",
    "from sklearn.metrics import f1_score, precision_score, recall_score, roc_auc_score\n",
    "import pickle\n",
    "import copy\n",
    "import re"
   ]
  },
  {
   "cell_type": "code",
   "execution_count": 6,
   "metadata": {},
   "outputs": [],
   "source": [
    "\"\"\"Loading the tagged data and the 5-words neighborhoods \"\"\"\n",
    "data = pickle.load(open('./label_tag_data.p', 'rb'))\n",
    "actual_words_5 = pickle.load(open('./neighborhoods/actual_words_hashtag_free_5.p', 'rb'))\n",
    "hashtag_words = pickle.load(open('./neighborhoods/hashtag_words.p','rb'))"
   ]
  },
  {
   "cell_type": "code",
   "execution_count": 7,
   "metadata": {},
   "outputs": [
    {
     "data": {
      "application/vnd.jupyter.widget-view+json": {
       "model_id": "9c9c1109677041a4b43f7a6d95cd5048",
       "version_major": 2,
       "version_minor": 0
      },
      "text/plain": [
       "HBox(children=(IntProgress(value=0, description='Going through the neighborhoods for 2 conditions', max=11540)…"
      ]
     },
     "metadata": {},
     "output_type": "display_data"
    },
    {
     "name": "stdout",
     "output_type": "stream",
     "text": [
      "\n"
     ]
    },
    {
     "data": {
      "application/vnd.jupyter.widget-view+json": {
       "model_id": "8838e9b1654740e18bf3e5cf32a53b53",
       "version_major": 2,
       "version_minor": 0
      },
      "text/plain": [
       "HBox(children=(IntProgress(value=0, description='Going through the neighborhoods for 2 conditions', max=11540)…"
      ]
     },
     "metadata": {},
     "output_type": "display_data"
    },
    {
     "name": "stdout",
     "output_type": "stream",
     "text": [
      "\n",
      "Using 2 conditions : negative PI verb, negation word + positive PI verb without hashtags\n",
      "F1 score obtained through the fully supervised method : 0.608816705336427\n",
      "Precision obtained through the fully supervised method : 0.6090993500464252\n",
      "Recall score obtained through the fully supervised method : 0.608534322820037\n",
      "\n",
      "Using 3 conditions : negative PI verb, negation word + positive PI verb, presence of 'never again' phrase without hashtags\n",
      "F1 score obtained through the fully supervised method : 0.6710182767624021\n",
      "Precision obtained through the fully supervised method : 0.6319672131147541\n",
      "Recall score obtained through the fully supervised method : 0.7152133580705009\n"
     ]
    }
   ],
   "source": [
    "\"\"\"Pattern flagging without hashtags\"\"\"\n",
    "\n",
    "\"\"\"Structuring the words into stand alone identifiers, negative paired identifiers, negative indicators, BA indicators, and other fluff\"\"\"\n",
    "stand_alone = ['boycott','bycott','boycot','bycot','avoid']\n",
    "neg_paired = ['fly','use','travel','choose','book','recommend']\n",
    "neg_ind = ['never','not','dont','shouldnt','wont','wouldnt']\n",
    "\n",
    "\"\"\"Function to pick pattern\"\"\"\n",
    "def check_pattern(pat):\n",
    "    sa_ind = int(len(set(list(pat)).intersection(stand_alone))>0)\n",
    "    np_ind = int( (len(set(list(pat)).intersection(neg_paired))>0) & (len(set(list(pat)).intersection(neg_ind))>0))\n",
    "    never_again = int('never' in pat and 'again' in pat)\n",
    "    return [sa_ind, np_ind, never_again]\n",
    "\n",
    "ys = list(data.pi)\n",
    "\n",
    "pred_2 = []\n",
    "for k in tqdm(range(len(actual_words_5)), desc='Going through the neighborhoods for 2 conditions'):\n",
    "    label = False\n",
    "    for pat in actual_words_5[k]:\n",
    "        pf = check_pattern(pat)\n",
    "        \"\"\"Common conditions labeling\"\"\"\n",
    "        if (pf[0]==1 or pf[1]==1) and not label:\n",
    "            pred_2.append(1)\n",
    "            label = True\n",
    "            break\n",
    "    \"\"\"Labeling as a non negative PI tweet if no condition is met\"\"\"\n",
    "    if not label:\n",
    "        pred_2.append(0)\n",
    "        \n",
    "pred_3 = []\n",
    "for k in tqdm(range(len(actual_words_5)), desc='Going through the neighborhoods for 2 conditions'):\n",
    "    label = False\n",
    "    for pat in actual_words_5[k]:\n",
    "        pf = check_pattern(pat)\n",
    "        \"\"\"Common conditions labeling\"\"\"\n",
    "        if (pf[0]==1 or pf[1]==1 or pf[2]==1) and not label:\n",
    "            pred_3.append(1)\n",
    "            label = True\n",
    "            break\n",
    "    \"\"\"Labeling as a non negative PI tweet if no condition is met\"\"\"\n",
    "    if not label:\n",
    "        pred_3.append(0)\n",
    "        \n",
    "        \n",
    "print('Using 2 conditions : negative PI verb, negation word + positive PI verb without hashtags')\n",
    "print('F1 score obtained through the fully supervised method : {}'.format(f1_score(y_true=ys, y_pred=pred_2)))\n",
    "print('Precision obtained through the fully supervised method : {}'.format(precision_score(y_true=ys, y_pred=pred_2)))\n",
    "print('Recall score obtained through the fully supervised method : {}'.format(recall_score(y_true=ys, y_pred=pred_2)))\n",
    "\n",
    "print(\"\\nUsing 3 conditions : negative PI verb, negation word + positive PI verb, presence of 'never again' phrase without hashtags\")\n",
    "print('F1 score obtained through the fully supervised method : {}'.format(f1_score(y_true=ys, y_pred=pred_3)))\n",
    "print('Precision obtained through the fully supervised method : {}'.format(precision_score(y_true=ys, y_pred=pred_3)))\n",
    "print('Recall score obtained through the fully supervised method : {}'.format(recall_score(y_true=ys, y_pred=pred_3)))"
   ]
  },
  {
   "cell_type": "code",
   "execution_count": 8,
   "metadata": {},
   "outputs": [
    {
     "data": {
      "application/vnd.jupyter.widget-view+json": {
       "model_id": "1f084aeb647a4f4ea1e9dcdf2a23c4b2",
       "version_major": 2,
       "version_minor": 0
      },
      "text/plain": [
       "HBox(children=(IntProgress(value=0, description='Going through the neighborhoods for 2 conditions', max=11540)…"
      ]
     },
     "metadata": {},
     "output_type": "display_data"
    },
    {
     "name": "stdout",
     "output_type": "stream",
     "text": [
      "\n"
     ]
    },
    {
     "data": {
      "application/vnd.jupyter.widget-view+json": {
       "model_id": "fe444bc19c574978848f0ddbff43b64b",
       "version_major": 2,
       "version_minor": 0
      },
      "text/plain": [
       "HBox(children=(IntProgress(value=0, description='Going through the neighborhoods for 2 conditions', max=11540)…"
      ]
     },
     "metadata": {},
     "output_type": "display_data"
    },
    {
     "name": "stdout",
     "output_type": "stream",
     "text": [
      "\n",
      "Using 2 conditions : negative PI verb, negation word + positive PI verb with hashtags\n",
      "F1 score obtained through the fully supervised method : 0.6393146979260595\n",
      "Precision obtained through the fully supervised method : 0.6219298245614036\n",
      "Recall score obtained through the fully supervised method : 0.6576994434137291\n",
      "\n",
      "Using 3 conditions : negative PI verb, negation word + positive PI verb, presence of 'never again' phrase with hashtags\n",
      "F1 score obtained through the fully supervised method : 0.7538461538461539\n",
      "Precision obtained through the fully supervised method : 0.6688218390804598\n",
      "Recall score obtained through the fully supervised method : 0.8636363636363636\n"
     ]
    }
   ],
   "source": [
    "\"\"\"Pattern flagging with hashtags\"\"\"\n",
    "\n",
    "\"\"\"Structuring the words into stand alone identifiers, negative paired identifiers, negative indicators, BA indicators, and other fluff\"\"\"\n",
    "stand_alone = ['boycott','bycott','boycot','bycot','avoid']\n",
    "neg_paired = ['fly','use','travel','choose','book','recommend']\n",
    "neg_ind = ['never','not','dont','shouldnt','no','wont','wouldnt']\n",
    "\n",
    "\"\"\"Function to pick pattern\"\"\"\n",
    "def check_pattern(pat):\n",
    "    sa_ind = int(len(set(list(pat)).intersection(stand_alone))>0)\n",
    "    np_ind = int( (len(set(list(pat)).intersection(neg_paired))>0) & (len(set(list(pat)).intersection(neg_ind))>0))\n",
    "    never_again = int('never' in pat and 'again' in pat)\n",
    "    return [sa_ind, np_ind, never_again]\n",
    "\n",
    "ys = list(data.pi)\n",
    "\n",
    "pred_2 = []\n",
    "for k in tqdm(range(len(actual_words_5)), desc='Going through the neighborhoods for 2 conditions'):\n",
    "    label = False\n",
    "    for pat in actual_words_5[k] + hashtag_words[k]:\n",
    "        pf = check_pattern(pat)\n",
    "        \"\"\"Common conditions labeling\"\"\"\n",
    "        if (pf[0]==1 or pf[1]==1) and not label:\n",
    "            pred_2.append(1)\n",
    "            label = True\n",
    "            break\n",
    "    \"\"\"Labeling as a non negative PI tweet if no condition is met\"\"\"\n",
    "    if not label:\n",
    "        pred_2.append(0)\n",
    "        \n",
    "pred_3 = []\n",
    "for k in tqdm(range(len(actual_words_5)), desc='Going through the neighborhoods for 2 conditions'):\n",
    "    label = False\n",
    "    for pat in actual_words_5[k]+ hashtag_words[k]:\n",
    "        pf = check_pattern(pat)\n",
    "        \"\"\"Common conditions labeling\"\"\"\n",
    "        if (pf[0]==1 or pf[1]==1 or pf[2]==1) and not label:\n",
    "            pred_3.append(1)\n",
    "            label = True\n",
    "            break\n",
    "    \"\"\"Labeling as a non negative PI tweet if no condition is met\"\"\"\n",
    "    if not label:\n",
    "        pred_3.append(0)\n",
    "        \n",
    "        \n",
    "print('Using 2 conditions : negative PI verb, negation word + positive PI verb with hashtags')\n",
    "print('F1 score obtained through the fully supervised method : {}'.format(f1_score(y_true=ys, y_pred=pred_2)))\n",
    "print('Precision obtained through the fully supervised method : {}'.format(precision_score(y_true=ys, y_pred=pred_2)))\n",
    "print('Recall score obtained through the fully supervised method : {}'.format(recall_score(y_true=ys, y_pred=pred_2)))\n",
    "\n",
    "print(\"\\nUsing 3 conditions : negative PI verb, negation word + positive PI verb, presence of 'never again' phrase with hashtags\")\n",
    "print('F1 score obtained through the fully supervised method : {}'.format(f1_score(y_true=ys, y_pred=pred_3)))\n",
    "print('Precision obtained through the fully supervised method : {}'.format(precision_score(y_true=ys, y_pred=pred_3)))\n",
    "print('Recall score obtained through the fully supervised method : {}'.format(recall_score(y_true=ys, y_pred=pred_3)))"
   ]
  }
 ],
 "metadata": {
  "kernelspec": {
   "display_name": "Python 3",
   "language": "python",
   "name": "python3"
  },
  "language_info": {
   "codemirror_mode": {
    "name": "ipython",
    "version": 3
   },
   "file_extension": ".py",
   "mimetype": "text/x-python",
   "name": "python",
   "nbconvert_exporter": "python",
   "pygments_lexer": "ipython3",
   "version": "3.6.5"
  }
 },
 "nbformat": 4,
 "nbformat_minor": 2
}
