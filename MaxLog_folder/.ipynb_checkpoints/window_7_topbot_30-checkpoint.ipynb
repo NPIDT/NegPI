{
 "cells": [
  {
   "cell_type": "code",
   "execution_count": 1,
   "metadata": {},
   "outputs": [
    {
     "name": "stderr",
     "output_type": "stream",
     "text": [
      "/home/qrg-researchlab/anaconda3/lib/python3.6/importlib/_bootstrap.py:219: RuntimeWarning: numpy.dtype size changed, may indicate binary incompatibility. Expected 96, got 88\n",
      "  return f(*args, **kwds)\n",
      "/home/qrg-researchlab/anaconda3/lib/python3.6/importlib/_bootstrap.py:219: RuntimeWarning: numpy.dtype size changed, may indicate binary incompatibility. Expected 96, got 88\n",
      "  return f(*args, **kwds)\n",
      "/home/qrg-researchlab/anaconda3/lib/python3.6/importlib/_bootstrap.py:219: RuntimeWarning: numpy.dtype size changed, may indicate binary incompatibility. Expected 96, got 88\n",
      "  return f(*args, **kwds)\n",
      "/home/qrg-researchlab/anaconda3/lib/python3.6/importlib/_bootstrap.py:219: RuntimeWarning: numpy.dtype size changed, may indicate binary incompatibility. Expected 96, got 88\n",
      "  return f(*args, **kwds)\n",
      "/home/qrg-researchlab/anaconda3/lib/python3.6/site-packages/sklearn/cross_validation.py:41: DeprecationWarning: This module was deprecated in version 0.18 in favor of the model_selection module into which all the refactored classes and functions are moved. Also note that the interface of the new CV iterators are different from that of this module. This module will be removed in 0.20.\n",
      "  \"This module will be removed in 0.20.\", DeprecationWarning)\n"
     ]
    }
   ],
   "source": [
    "import pandas as pd\n",
    "import numpy as np\n",
    "from tqdm import tqdm_notebook as tqdm\n",
    "from nltk.stem import WordNetLemmatizer\n",
    "from sklearn.linear_model import LogisticRegression\n",
    "from tqdm import tqdm_notebook as tqdm\n",
    "from sklearn.cross_validation import cross_val_score\n",
    "from sklearn.metrics import confusion_matrix, f1_score, precision_score, recall_score, roc_auc_score\n",
    "import matplotlib.pyplot as plt\n",
    "import re\n",
    "import pickle\n",
    "from scipy.special import logit, expit"
   ]
  },
  {
   "cell_type": "code",
   "execution_count": null,
   "metadata": {},
   "outputs": [],
   "source": [
    "class MaxLog:\n",
    "    \n",
    "    def __init__(self, d, fit_intercept=True, init_w=None, init_b=None, alpha=1e-3, epsilon=1e-2):\n",
    "        \"\"\"Defining the dimension and fit_intercept parameters\"\"\"\n",
    "        self.dim = d\n",
    "        self.grad = np.zeros(self.dim)\n",
    "        self.fit_intercept = fit_intercept\n",
    "        \n",
    "        \"\"\"Initializing the weights\"\"\"\n",
    "        self.w = 0.\n",
    "        if init_w is None:\n",
    "            self.w = np.random.normal(size=self.dim)\n",
    "        elif isinstance(init_w, np.ndarray) and init_w.shape[0]==self.dim:\n",
    "            self.w = init_w\n",
    "        else:\n",
    "            raise ValueError('Wrong dimension in intial parameters.')\n",
    "        \n",
    "        \"\"\"Initializing the bias\"\"\"\n",
    "        self.b = 0.\n",
    "        if fit_intercept:\n",
    "            if init_b is None:\n",
    "                self.b = np.random.normal()\n",
    "            elif isinstance(init_b, (float, np.float64)):\n",
    "                self.b = init_b\n",
    "            else:\n",
    "                raise ValueError('Bias initialization must be a float type.')\n",
    "                \n",
    "        \"\"\"Setting the learning rate\"\"\"\n",
    "        if isinstance(alpha, (float, np.float64)):\n",
    "            self.alpha = alpha\n",
    "        else:\n",
    "            raise ValueError('Learning rate must be a float type.')\n",
    "        \n",
    "        \"\"\"Setting the stopping criterion for the gradient descent\"\"\"\n",
    "        if isinstance(epsilon, (float, np.float64)):\n",
    "            self.epsilon = epsilon\n",
    "        else:\n",
    "            raise ValueError('Tolerance must be a float type.')\n",
    "        \n",
    "        \"\"\"Initializing error sequence\"\"\"\n",
    "        self.errors = []\n",
    "        \n",
    "        pass\n",
    "    \n",
    "    \n",
    "    def check_dim(self, X):\n",
    "        \"\"\"Computing check on dimension of observations\"\"\"\n",
    "        dim_check = any(x.shape[1]!=self.dim for x in X)\n",
    "        if dim_check:\n",
    "            raise ValueError('Wrong dimension in observations')\n",
    "        pass\n",
    "    \n",
    "    \n",
    "    def check_attr(self, attr, message=''):\n",
    "        \"\"\"Function to check whether the instance has an attribute\"\"\"\n",
    "        if not hasattr(self, attr):\n",
    "            if message=='':\n",
    "                raise ValueError(\"Instance doesn't have attribute '{}'\".format(attr))\n",
    "            else:\n",
    "                raise ValueError(message)\n",
    "        pass\n",
    "    \n",
    "    \n",
    "    def predict(self, X):\n",
    "        \"\"\"Computing check on dimension of observations\"\"\"\n",
    "        self.check_dim(X)\n",
    "            \n",
    "        \"\"\"Computing the predictions\"\"\"\n",
    "        pred = [np.max(expit(self.b + x.dot(self.w))) for x in X]\n",
    "        return np.array([int(p>=0.5) for p in pred])\n",
    "    \n",
    "    \n",
    "    def predict_proba(self, X):\n",
    "        \"\"\"Computing check on dimension of observations\"\"\"\n",
    "        self.check_dim(X)\n",
    "            \n",
    "        \"\"\"Computing the probability\"\"\"\n",
    "        pred = [np.max(expit(self.b + x.dot(self.w))) for x in X]\n",
    "        return np.array(pred)\n",
    "    \n",
    "    \n",
    "    def fit(self, X, y, parallel=False, n_iter=None):\n",
    "        \"\"\"Function to fit the model\n",
    "        Needs : compute the forward propagation, compute the backward propagation\"\"\"\n",
    "        \"\"\"Computing check on dimension of observations\"\"\"\n",
    "        self.check_dim(X)\n",
    "        \n",
    "        \"\"\"Initiating the error sequence\"\"\"\n",
    "        self.errors = []\n",
    "        self.grad = 10\n",
    "        \n",
    "        \"\"\"Performing the gradient descent\"\"\"\n",
    "        error = np.inf\n",
    "        if n_iter==None:\n",
    "            while error >= self.epsilon:\n",
    "                self.forward(X, y)\n",
    "                self.backward(X, y)\n",
    "                error = self.grad\n",
    "        else:\n",
    "            for k in tqdm(range(n_iter), desc='Fitting the model'):\n",
    "                self.forward(X, y)\n",
    "                self.backward(X, y)\n",
    "                if self.grad<=self.epsilon:\n",
    "                    break\n",
    "        pass\n",
    "    \n",
    "    \n",
    "    def forward(self, X, y):\n",
    "        \"\"\"Performing the forward pass of the model : registering the maximum indexes, the current proba scores, and the error\"\"\"\n",
    "        probas = [expit(self.b + x.dot(self.w)) for x in X]\n",
    "        self.max_ind = [np.argmax(v) for v in probas]\n",
    "        y_pred = np.array([np.max(v) for v in probas])\n",
    "        self.eta = y_pred\n",
    "        self.errors.append(- np.mean(np.array(y) * np.log(y_pred) + (1-np.array(y)) * np.log(1-y_pred)))\n",
    "        pass\n",
    "    \n",
    "    \n",
    "    def backward(self, X, y):\n",
    "        grad_w, grad_b = self.gradient(X, y)\n",
    "        self.w = self.w - self.alpha * grad_w\n",
    "        self.b = self.b - self.alpha * grad_b\n",
    "        self.grad = np.sqrt(np.sum(grad_w**2)+grad_b**2)\n",
    "        pass\n",
    "    \n",
    "    \n",
    "    def gradient(self, X, y):\n",
    "        \"\"\"Check on error and maximum index for gradient computation\"\"\"\n",
    "        self.check_attr('errors', message='Need to compute forward pass to have error')\n",
    "        self.check_attr('max_ind', message='Need to compute forward pass to have maximum index')\n",
    "        self.check_attr('eta', message='Need to compute forward pass to have current estimate probabilities')\n",
    "        \n",
    "        \"\"\"Computing the gradient for every observation\"\"\"\n",
    "        mi = self.max_ind\n",
    "        current_X = np.vstack([X[k][mi[k]].reshape((1,-1)) for k in range(len(X))])\n",
    "        grad_w = current_X.T.dot(self.eta - np.array(y))/current_X.shape[0]\n",
    "        grad_b = 0.\n",
    "        if self.fit_intercept:\n",
    "            grad_b = np.mean(self.eta - np.array(y))\n",
    "        return grad_w, grad_b"
   ]
  },
  {
   "cell_type": "code",
   "execution_count": 13,
   "metadata": {},
   "outputs": [],
   "source": [
    "\"\"\"Loading the features\"\"\"\n",
    "top_verbs_30 = pickle.load(open('../features_30/top_verbs_30.p', 'rb'))\n",
    "bot_verbs_30 = pickle.load(open('../features_30/bot_verbs_30.p', 'rb'))\n",
    "top_adverbs_30 = pickle.load(open('../features_30/top_adverbs_30.p', 'rb'))\n",
    "bot_adverbs_30 = pickle.load(open('../features_30/bot_adverbs_30.p', 'rb'))"
   ]
  },
  {
   "cell_type": "code",
   "execution_count": 14,
   "metadata": {},
   "outputs": [],
   "source": [
    "\"\"\"Loading the neighborhoods and the target\"\"\"\n",
    "actual_words_7 = pickle.load(open('../neighborhoods/actual_words_hashtag_free_7.p','rb'))\n",
    "hashtag_words = pickle.load(open('../neighborhoods/hashtag_words.p','rb'))\n",
    "data = pd.read_csv('../basic_data.csv', sep='\\t')\n",
    "ys = list(data.pi)"
   ]
  },
  {
   "cell_type": "code",
   "execution_count": 15,
   "metadata": {},
   "outputs": [],
   "source": [
    "def represent(pattern):\n",
    "    tv = [int(v in pattern) for v in top_verbs_30]\n",
    "    bv = [int(v in pattern) for v in bot_verbs_30]\n",
    "    ta = [int(v in pattern) for v in top_adverbs_30]\n",
    "    ba = [int(v in pattern) for v in bot_adverbs_30]\n",
    "    return tv+bv+ta+ba"
   ]
  },
  {
   "cell_type": "code",
   "execution_count": 16,
   "metadata": {},
   "outputs": [
    {
     "data": {
      "application/vnd.jupyter.widget-view+json": {
       "model_id": "7165b2fffa1743178d682ef22da48af9",
       "version_major": 2,
       "version_minor": 0
      },
      "text/plain": [
       "HBox(children=(IntProgress(value=0, max=11540), HTML(value='')))"
      ]
     },
     "metadata": {},
     "output_type": "display_data"
    },
    {
     "name": "stdout",
     "output_type": "stream",
     "text": [
      "\n"
     ]
    },
    {
     "data": {
      "application/vnd.jupyter.widget-view+json": {
       "model_id": "350d28f1b116422593b9ab89fe85e808",
       "version_major": 2,
       "version_minor": 0
      },
      "text/plain": [
       "HBox(children=(IntProgress(value=0, max=11540), HTML(value='')))"
      ]
     },
     "metadata": {},
     "output_type": "display_data"
    },
    {
     "name": "stdout",
     "output_type": "stream",
     "text": [
      "\n"
     ]
    },
    {
     "data": {
      "application/vnd.jupyter.widget-view+json": {
       "model_id": "47163cf041ec4539adb5bb0df7663922",
       "version_major": 2,
       "version_minor": 0
      },
      "text/plain": [
       "HBox(children=(IntProgress(value=0, max=11540), HTML(value='')))"
      ]
     },
     "metadata": {},
     "output_type": "display_data"
    },
    {
     "name": "stdout",
     "output_type": "stream",
     "text": [
      "\n"
     ]
    },
    {
     "data": {
      "application/vnd.jupyter.widget-view+json": {
       "model_id": "64739bfe8cef4a74b4d4bac402c13345",
       "version_major": 2,
       "version_minor": 0
      },
      "text/plain": [
       "HBox(children=(IntProgress(value=0, max=11540), HTML(value='')))"
      ]
     },
     "metadata": {},
     "output_type": "display_data"
    },
    {
     "name": "stdout",
     "output_type": "stream",
     "text": [
      "\n"
     ]
    },
    {
     "data": {
      "application/vnd.jupyter.widget-view+json": {
       "model_id": "0c399874bcc945f98b97baf5af0d16a6",
       "version_major": 2,
       "version_minor": 0
      },
      "text/plain": [
       "HBox(children=(IntProgress(value=0, max=11540), HTML(value='')))"
      ]
     },
     "metadata": {},
     "output_type": "display_data"
    },
    {
     "name": "stdout",
     "output_type": "stream",
     "text": [
      "\n"
     ]
    },
    {
     "data": {
      "application/vnd.jupyter.widget-view+json": {
       "model_id": "0c9199ca7bb94d5ea640fbcdf86363c4",
       "version_major": 2,
       "version_minor": 0
      },
      "text/plain": [
       "HBox(children=(IntProgress(value=0, max=11540), HTML(value='')))"
      ]
     },
     "metadata": {},
     "output_type": "display_data"
    },
    {
     "name": "stdout",
     "output_type": "stream",
     "text": [
      "\n"
     ]
    }
   ],
   "source": [
    "X_basic = [[represent(pattern) for pattern in tweet] for tweet in tqdm(actual_words_7)]\n",
    "X_hashtag = [[represent(pattern) for pattern in tweet] for tweet in tqdm(hashtag_words)]\n",
    "\n",
    "X_full = [X_basic[k] + X_hashtag[k] for k in tqdm(range(len(ys)))]\n",
    "\n",
    "X_basic = [np.array(tweet) for tweet in tqdm(X_basic)]\n",
    "X_full = [np.array(tweet) for tweet in tqdm(X_full)]\n",
    "\n",
    "d = len(top_adverbs_30) + len(top_verbs_30) + len(bot_adverbs_30) + len(bot_verbs_30)\n",
    "for k in tqdm(range(len(X_basic))):\n",
    "    if X_basic[k].shape[0]==0:\n",
    "        X_basic[k] = np.zeros((1,d))\n",
    "    if X_full[k].shape[0]==0:\n",
    "        X_full[k] = np.zeros((1,d))"
   ]
  },
  {
   "cell_type": "code",
   "execution_count": 17,
   "metadata": {},
   "outputs": [],
   "source": [
    "\"\"\"Building indexes\"\"\"\n",
    "\n",
    "n = len(ys)\n",
    "d = X_basic[0].shape[0]\n",
    "\n",
    "\"\"\"Retrieving the positive and negative indexes\"\"\"\n",
    "neg_index = [k for k in range(len(ys)) if ys[k]==0]\n",
    "pos_index = [k for k in range(len(ys)) if ys[k]==1]\n",
    "\n",
    "\"\"\"Shuffling both the positive and negative indexes\"\"\"\n",
    "np.random.seed(seed=0)\n",
    "np.random.shuffle(neg_index)\n",
    "np.random.shuffle(pos_index)\n",
    "\n",
    "\"\"\"Computing train and test index sets for the chosen number of folds\"\"\"\n",
    "cv = 10\n",
    "\n",
    "s = len(neg_index)//cv\n",
    "neg_index_list = [neg_index[k*s:(k+1)*s] for k in range(cv-1)]\n",
    "neg_index_list.append(neg_index[(cv-1)*s:])\n",
    "assert(np.sum([len(e) for e in neg_index_list])==len(neg_index)) # Check on negative index completion\n",
    "\n",
    "s = len(pos_index)//cv\n",
    "pos_index_list = [pos_index[k*s:(k+1)*s] for k in range(cv-1)]\n",
    "pos_index_list.append(pos_index[(cv-1)*s:])\n",
    "assert(np.sum([len(e) for e in pos_index_list])==len(pos_index))# Check on positive index completion"
   ]
  },
  {
   "cell_type": "code",
   "execution_count": 19,
   "metadata": {},
   "outputs": [
    {
     "name": "stdout",
     "output_type": "stream",
     "text": [
      "1-th fold\n",
      "Splitting the data\n",
      "Fitting the model\n"
     ]
    },
    {
     "data": {
      "application/vnd.jupyter.widget-view+json": {
       "model_id": "eb18a45c637849e490092c2013fc260f",
       "version_major": 2,
       "version_minor": 0
      },
      "text/plain": [
       "HBox(children=(IntProgress(value=0, description='Fitting the model', max=4000), HTML(value='')))"
      ]
     },
     "metadata": {},
     "output_type": "display_data"
    },
    {
     "name": "stdout",
     "output_type": "stream",
     "text": [
      "Evaluation and storage of model parameters\n",
      "\n",
      "2-th fold\n",
      "Splitting the data\n",
      "Fitting the model\n"
     ]
    },
    {
     "data": {
      "application/vnd.jupyter.widget-view+json": {
       "model_id": "7c453a16218540b393160af87e013e6f",
       "version_major": 2,
       "version_minor": 0
      },
      "text/plain": [
       "HBox(children=(IntProgress(value=0, description='Fitting the model', max=4000), HTML(value='')))"
      ]
     },
     "metadata": {},
     "output_type": "display_data"
    },
    {
     "name": "stdout",
     "output_type": "stream",
     "text": [
      "Evaluation and storage of model parameters\n",
      "\n",
      "3-th fold\n",
      "Splitting the data\n",
      "Fitting the model\n"
     ]
    },
    {
     "data": {
      "application/vnd.jupyter.widget-view+json": {
       "model_id": "d02115be3e834b7d90995e91c16d262c",
       "version_major": 2,
       "version_minor": 0
      },
      "text/plain": [
       "HBox(children=(IntProgress(value=0, description='Fitting the model', max=4000), HTML(value='')))"
      ]
     },
     "metadata": {},
     "output_type": "display_data"
    },
    {
     "name": "stdout",
     "output_type": "stream",
     "text": [
      "Evaluation and storage of model parameters\n",
      "\n",
      "4-th fold\n",
      "Splitting the data\n",
      "Fitting the model\n"
     ]
    },
    {
     "data": {
      "application/vnd.jupyter.widget-view+json": {
       "model_id": "619d5fec8949433e8538b88ae03708a3",
       "version_major": 2,
       "version_minor": 0
      },
      "text/plain": [
       "HBox(children=(IntProgress(value=0, description='Fitting the model', max=4000), HTML(value='')))"
      ]
     },
     "metadata": {},
     "output_type": "display_data"
    },
    {
     "name": "stdout",
     "output_type": "stream",
     "text": [
      "Evaluation and storage of model parameters\n",
      "\n",
      "5-th fold\n",
      "Splitting the data\n",
      "Fitting the model\n"
     ]
    },
    {
     "data": {
      "application/vnd.jupyter.widget-view+json": {
       "model_id": "a61a54efe419446390f8ddd7a7412c1e",
       "version_major": 2,
       "version_minor": 0
      },
      "text/plain": [
       "HBox(children=(IntProgress(value=0, description='Fitting the model', max=4000), HTML(value='')))"
      ]
     },
     "metadata": {},
     "output_type": "display_data"
    },
    {
     "name": "stdout",
     "output_type": "stream",
     "text": [
      "Evaluation and storage of model parameters\n",
      "\n",
      "6-th fold\n",
      "Splitting the data\n",
      "Fitting the model\n"
     ]
    },
    {
     "data": {
      "application/vnd.jupyter.widget-view+json": {
       "model_id": "19367227654a42d0ac2de8e4a560ee4f",
       "version_major": 2,
       "version_minor": 0
      },
      "text/plain": [
       "HBox(children=(IntProgress(value=0, description='Fitting the model', max=4000), HTML(value='')))"
      ]
     },
     "metadata": {},
     "output_type": "display_data"
    },
    {
     "name": "stdout",
     "output_type": "stream",
     "text": [
      "Evaluation and storage of model parameters\n",
      "\n",
      "7-th fold\n",
      "Splitting the data\n",
      "Fitting the model\n"
     ]
    },
    {
     "data": {
      "application/vnd.jupyter.widget-view+json": {
       "model_id": "5378a658efc74f6994c4d717466c4a72",
       "version_major": 2,
       "version_minor": 0
      },
      "text/plain": [
       "HBox(children=(IntProgress(value=0, description='Fitting the model', max=4000), HTML(value='')))"
      ]
     },
     "metadata": {},
     "output_type": "display_data"
    },
    {
     "name": "stdout",
     "output_type": "stream",
     "text": [
      "Evaluation and storage of model parameters\n",
      "\n",
      "8-th fold\n",
      "Splitting the data\n",
      "Fitting the model\n"
     ]
    },
    {
     "data": {
      "application/vnd.jupyter.widget-view+json": {
       "model_id": "375f2231b5614990a79abd88a930b0de",
       "version_major": 2,
       "version_minor": 0
      },
      "text/plain": [
       "HBox(children=(IntProgress(value=0, description='Fitting the model', max=4000), HTML(value='')))"
      ]
     },
     "metadata": {},
     "output_type": "display_data"
    },
    {
     "name": "stdout",
     "output_type": "stream",
     "text": [
      "Evaluation and storage of model parameters\n",
      "\n",
      "9-th fold\n",
      "Splitting the data\n",
      "Fitting the model\n"
     ]
    },
    {
     "data": {
      "application/vnd.jupyter.widget-view+json": {
       "model_id": "84ef4a4cbdc048f89f790e22a24a4b6e",
       "version_major": 2,
       "version_minor": 0
      },
      "text/plain": [
       "HBox(children=(IntProgress(value=0, description='Fitting the model', max=4000), HTML(value='')))"
      ]
     },
     "metadata": {},
     "output_type": "display_data"
    },
    {
     "name": "stdout",
     "output_type": "stream",
     "text": [
      "Evaluation and storage of model parameters\n",
      "\n",
      "10-th fold\n",
      "Splitting the data\n",
      "Fitting the model\n"
     ]
    },
    {
     "data": {
      "application/vnd.jupyter.widget-view+json": {
       "model_id": "5741a33f0fad48aaaf972f37ea035823",
       "version_major": 2,
       "version_minor": 0
      },
      "text/plain": [
       "HBox(children=(IntProgress(value=0, description='Fitting the model', max=4000), HTML(value='')))"
      ]
     },
     "metadata": {},
     "output_type": "display_data"
    },
    {
     "name": "stdout",
     "output_type": "stream",
     "text": [
      "Evaluation and storage of model parameters\n",
      "\n"
     ]
    }
   ],
   "source": [
    "\"\"\"Cross-validation on 30% features, without hashtags\"\"\"\n",
    "from scipy.special import logit, expit\n",
    "\n",
    "\"\"\"Initializing the list of outputs, predictions and probabilities to computed CV-ly\"\"\"\n",
    "Y = ys\n",
    "Y_Pred = []\n",
    "Y_Proba = []\n",
    "\n",
    "\"\"\"Intializing the list of cross-validated features\"\"\"\n",
    "precision_list = []\n",
    "recall_list = []\n",
    "roc_auc_list = []\n",
    "f1_list = []\n",
    "\n",
    "\"\"\"Storing coefficients and biases for stability evaluation\"\"\"\n",
    "biases = []\n",
    "weights = []\n",
    "\n",
    "\"\"\"Performing the cross-validation of the model using the features of interest\n",
    "A caveat to be mentioned is that the feature selection was performed on the whole dataset, which may be a little biased towards choosing the right features.\n",
    "This effect will be neglected during this test.\"\"\"\n",
    "for k in range(cv):\n",
    "    \"\"\"Splitting the data into train and test\"\"\"\n",
    "    print('{}-th fold'.format(k+1))\n",
    "    print('Splitting the data')\n",
    "    neg_test = [X_basic[i] for i in neg_index_list[k]]\n",
    "    pos_test = [X_basic[i] for i in pos_index_list[k]]\n",
    "    neg_train = [X_basic[i] for i in set(neg_index).difference(neg_index_list[k])]\n",
    "    pos_train = [X_basic[i] for i in set(pos_index).difference(pos_index_list[k])]\n",
    "\n",
    "    X_train = pos_train + neg_train\n",
    "    X_test = pos_test + neg_test\n",
    "\n",
    "    y_train = [1] * len(pos_train) + [0] * len(neg_train)\n",
    "    y_test = [1] * len(pos_test) + [0] * len(neg_test)\n",
    "\n",
    "    \"\"\"Fitting the model\"\"\"\n",
    "    print('Fitting the model')\n",
    "    d = X_train[0].shape[1]\n",
    "    model = MaxLog(d=d, fit_intercept=True, alpha=10., epsilon=1e-4, init_b=logit(np.mean(y_train)), init_w=np.zeros(d))\n",
    "    model.fit(X_train, y_train, n_iter=4000, parallel=False)\n",
    "\n",
    "    print('Evaluation and storage of model parameters\\n')\n",
    "    \"\"\"Outputting the predictions and the probability scores\"\"\"\n",
    "    y_score = model.predict_proba(X_test)\n",
    "    y_pred = model.predict(X_test)\n",
    "\n",
    "    \"\"\"Computing the various metrics\"\"\"\n",
    "    f1_list.append(f1_score(y_test, y_pred))\n",
    "    precision_list.append(precision_score(y_test, y_pred))\n",
    "    recall_list.append(recall_score(y_test, y_pred))\n",
    "    roc_auc_list.append(roc_auc_score(y_test, y_score))\n",
    "\n",
    "    \"\"\"Adding predictions and scores to computed global cross-validated performance after the end of the process\"\"\"\n",
    "    Y_Pred.append(list(y_pred))\n",
    "    Y_Proba.append(list(y_score))\n",
    "\n",
    "    \"\"\"Storing the model's coefficients\"\"\"\n",
    "    biases.append(model.b)\n",
    "    weights.append(model.w)"
   ]
  },
  {
   "cell_type": "code",
   "execution_count": 20,
   "metadata": {},
   "outputs": [
    {
     "name": "stdout",
     "output_type": "stream",
     "text": [
      "Average precision : 0.7970771253852141\n",
      "Average recall : 0.6077529459569281\n",
      "Average F1 score : 0.6888001412829468\n",
      "Average ROC score : 0.905289349036836\n"
     ]
    }
   ],
   "source": [
    "print('Average precision : {}'.format(np.mean(precision_list)))\n",
    "print('Average recall : {}'.format(np.mean(recall_list)))\n",
    "print('Average F1 score : {}'.format(np.mean(f1_list)))\n",
    "print('Average ROC score : {}'.format(np.mean(roc_auc_list)))"
   ]
  },
  {
   "cell_type": "code",
   "execution_count": 21,
   "metadata": {},
   "outputs": [
    {
     "name": "stdout",
     "output_type": "stream",
     "text": [
      "1-th fold\n",
      "Splitting the data\n",
      "Fitting the model\n"
     ]
    },
    {
     "data": {
      "application/vnd.jupyter.widget-view+json": {
       "model_id": "89bd8be94b354a8bb65dd8c3dde1f29b",
       "version_major": 2,
       "version_minor": 0
      },
      "text/plain": [
       "HBox(children=(IntProgress(value=0, description='Fitting the model', max=4000), HTML(value='')))"
      ]
     },
     "metadata": {},
     "output_type": "display_data"
    },
    {
     "name": "stdout",
     "output_type": "stream",
     "text": [
      "Evaluation and storage of model parameters\n",
      "\n",
      "2-th fold\n",
      "Splitting the data\n",
      "Fitting the model\n"
     ]
    },
    {
     "data": {
      "application/vnd.jupyter.widget-view+json": {
       "model_id": "1a87793abe444cbaaeafa1c274189a02",
       "version_major": 2,
       "version_minor": 0
      },
      "text/plain": [
       "HBox(children=(IntProgress(value=0, description='Fitting the model', max=4000), HTML(value='')))"
      ]
     },
     "metadata": {},
     "output_type": "display_data"
    },
    {
     "name": "stdout",
     "output_type": "stream",
     "text": [
      "Evaluation and storage of model parameters\n",
      "\n",
      "3-th fold\n",
      "Splitting the data\n",
      "Fitting the model\n"
     ]
    },
    {
     "data": {
      "application/vnd.jupyter.widget-view+json": {
       "model_id": "72c3da3149f54939b3ca67698eb414e0",
       "version_major": 2,
       "version_minor": 0
      },
      "text/plain": [
       "HBox(children=(IntProgress(value=0, description='Fitting the model', max=4000), HTML(value='')))"
      ]
     },
     "metadata": {},
     "output_type": "display_data"
    },
    {
     "name": "stdout",
     "output_type": "stream",
     "text": [
      "Evaluation and storage of model parameters\n",
      "\n",
      "4-th fold\n",
      "Splitting the data\n",
      "Fitting the model\n"
     ]
    },
    {
     "data": {
      "application/vnd.jupyter.widget-view+json": {
       "model_id": "755f3077bae740ef931ebfd77557fa11",
       "version_major": 2,
       "version_minor": 0
      },
      "text/plain": [
       "HBox(children=(IntProgress(value=0, description='Fitting the model', max=4000), HTML(value='')))"
      ]
     },
     "metadata": {},
     "output_type": "display_data"
    },
    {
     "name": "stdout",
     "output_type": "stream",
     "text": [
      "Evaluation and storage of model parameters\n",
      "\n",
      "5-th fold\n",
      "Splitting the data\n",
      "Fitting the model\n"
     ]
    },
    {
     "data": {
      "application/vnd.jupyter.widget-view+json": {
       "model_id": "461381083d494219aa48dd19bc592099",
       "version_major": 2,
       "version_minor": 0
      },
      "text/plain": [
       "HBox(children=(IntProgress(value=0, description='Fitting the model', max=4000), HTML(value='')))"
      ]
     },
     "metadata": {},
     "output_type": "display_data"
    },
    {
     "name": "stdout",
     "output_type": "stream",
     "text": [
      "Evaluation and storage of model parameters\n",
      "\n",
      "6-th fold\n",
      "Splitting the data\n",
      "Fitting the model\n"
     ]
    },
    {
     "data": {
      "application/vnd.jupyter.widget-view+json": {
       "model_id": "5b35b43f476b4f4088b076375a0bf385",
       "version_major": 2,
       "version_minor": 0
      },
      "text/plain": [
       "HBox(children=(IntProgress(value=0, description='Fitting the model', max=4000), HTML(value='')))"
      ]
     },
     "metadata": {},
     "output_type": "display_data"
    },
    {
     "name": "stdout",
     "output_type": "stream",
     "text": [
      "Evaluation and storage of model parameters\n",
      "\n",
      "7-th fold\n",
      "Splitting the data\n",
      "Fitting the model\n"
     ]
    },
    {
     "data": {
      "application/vnd.jupyter.widget-view+json": {
       "model_id": "9bbc253b735d462f9e63ac914d8d0e14",
       "version_major": 2,
       "version_minor": 0
      },
      "text/plain": [
       "HBox(children=(IntProgress(value=0, description='Fitting the model', max=4000), HTML(value='')))"
      ]
     },
     "metadata": {},
     "output_type": "display_data"
    },
    {
     "name": "stdout",
     "output_type": "stream",
     "text": [
      "Evaluation and storage of model parameters\n",
      "\n",
      "8-th fold\n",
      "Splitting the data\n",
      "Fitting the model\n"
     ]
    },
    {
     "data": {
      "application/vnd.jupyter.widget-view+json": {
       "model_id": "d229baf3481a4222850d4c0759bc5bef",
       "version_major": 2,
       "version_minor": 0
      },
      "text/plain": [
       "HBox(children=(IntProgress(value=0, description='Fitting the model', max=4000), HTML(value='')))"
      ]
     },
     "metadata": {},
     "output_type": "display_data"
    },
    {
     "name": "stdout",
     "output_type": "stream",
     "text": [
      "Evaluation and storage of model parameters\n",
      "\n",
      "9-th fold\n",
      "Splitting the data\n",
      "Fitting the model\n"
     ]
    },
    {
     "data": {
      "application/vnd.jupyter.widget-view+json": {
       "model_id": "f50c1295ae0a466e8c3331d8eebf50e5",
       "version_major": 2,
       "version_minor": 0
      },
      "text/plain": [
       "HBox(children=(IntProgress(value=0, description='Fitting the model', max=4000), HTML(value='')))"
      ]
     },
     "metadata": {},
     "output_type": "display_data"
    },
    {
     "name": "stdout",
     "output_type": "stream",
     "text": [
      "Evaluation and storage of model parameters\n",
      "\n",
      "10-th fold\n",
      "Splitting the data\n",
      "Fitting the model\n"
     ]
    },
    {
     "data": {
      "application/vnd.jupyter.widget-view+json": {
       "model_id": "f06bacbd888d4086a5c8fb4fddb4f10d",
       "version_major": 2,
       "version_minor": 0
      },
      "text/plain": [
       "HBox(children=(IntProgress(value=0, description='Fitting the model', max=4000), HTML(value='')))"
      ]
     },
     "metadata": {},
     "output_type": "display_data"
    },
    {
     "name": "stdout",
     "output_type": "stream",
     "text": [
      "Evaluation and storage of model parameters\n",
      "\n",
      "Average precision : 0.8408239538956147\n",
      "Average recall : 0.7532222673709874\n",
      "Average F1 score : 0.7941999102365059\n",
      "Average ROC score : 0.9670029908740615\n"
     ]
    }
   ],
   "source": [
    "\"\"\"Cross-validation on 5% features, with hashtags\"\"\"\n",
    "from scipy.special import logit\n",
    "\n",
    "\"\"\"Initializing the list of outputs, predictions and probabilities to computed CV-ly\"\"\"\n",
    "Y = ys\n",
    "Y_Pred = []\n",
    "Y_Proba = []\n",
    "\n",
    "\"\"\"Intializing the list of cross-validated features\"\"\"\n",
    "precision_list_full = []\n",
    "recall_list_full = []\n",
    "roc_auc_list_full = []\n",
    "f1_list_full = []\n",
    "\n",
    "\"\"\"Storing coefficients and biases for stability evaluation\"\"\"\n",
    "biases_full = []\n",
    "weights_full = []\n",
    "\n",
    "\"\"\"Performing the cross-validation of the model using the features of interest\n",
    "A caveat to be mentioned is that the feature selection was performed on the whole dataset, which may be a little biased towards choosing the right features.\n",
    "This effect will be neglected during this test.\"\"\"\n",
    "for k in range(cv):\n",
    "    \"\"\"Splitting the data into train and test\"\"\"\n",
    "    print('{}-th fold'.format(k+1))\n",
    "    print('Splitting the data')\n",
    "    neg_test = [X_full[i] for i in neg_index_list[k]]\n",
    "    pos_test = [X_full[i] for i in pos_index_list[k]]\n",
    "    neg_train = [X_full[i] for i in set(neg_index).difference(neg_index_list[k])]\n",
    "    pos_train = [X_full[i] for i in set(pos_index).difference(pos_index_list[k])]\n",
    "\n",
    "    X_train = pos_train + neg_train\n",
    "    X_test = pos_test + neg_test\n",
    "\n",
    "    y_train = [1] * len(pos_train) + [0] * len(neg_train)\n",
    "    y_test = [1] * len(pos_test) + [0] * len(neg_test)\n",
    "\n",
    "    \"\"\"Fitting the model\"\"\"\n",
    "    print('Fitting the model')\n",
    "    d = X_train[0].shape[1]\n",
    "    model = MaxLog(d=d, fit_intercept=True, alpha=10., epsilon=1e-4, init_b=logit(np.mean(y_train)), init_w=np.zeros(d))\n",
    "    model.fit(X_train, y_train, n_iter=4000, parallel=False)\n",
    "\n",
    "    print('Evaluation and storage of model parameters\\n')\n",
    "    \"\"\"Outputting the predictions and the probability scores\"\"\"\n",
    "    y_score = model.predict_proba(X_test)\n",
    "    y_pred = model.predict(X_test)\n",
    "\n",
    "    \"\"\"Computing the various metrics\"\"\"\n",
    "    f1_list_full.append(f1_score(y_test, y_pred))\n",
    "    precision_list_full.append(precision_score(y_test, y_pred))\n",
    "    recall_list_full.append(recall_score(y_test, y_pred))\n",
    "    roc_auc_list_full.append(roc_auc_score(y_test, y_score))\n",
    "\n",
    "    \"\"\"Adding predictions and scores to computed global cross-validated performance after the end of the process\"\"\"\n",
    "    Y_Pred.append(list(y_pred))\n",
    "    Y_Proba.append(list(y_score))\n",
    "\n",
    "    \"\"\"Storing the model's coefficients\"\"\"\n",
    "    biases_full.append(model.b)\n",
    "    weights_full.append(model.w)\n",
    "    \n",
    "print('Average precision : {}'.format(np.mean(precision_list_full)))\n",
    "print('Average recall : {}'.format(np.mean(recall_list_full)))\n",
    "print('Average F1 score : {}'.format(np.mean(f1_list_full)))\n",
    "print('Average ROC score : {}'.format(np.mean(roc_auc_list_full)))"
   ]
  }
 ],
 "metadata": {
  "kernelspec": {
   "display_name": "Python 3",
   "language": "python",
   "name": "python3"
  },
  "language_info": {
   "codemirror_mode": {
    "name": "ipython",
    "version": 3
   },
   "file_extension": ".py",
   "mimetype": "text/x-python",
   "name": "python",
   "nbconvert_exporter": "python",
   "pygments_lexer": "ipython3",
   "version": "3.6.5"
  }
 },
 "nbformat": 4,
 "nbformat_minor": 2
}
