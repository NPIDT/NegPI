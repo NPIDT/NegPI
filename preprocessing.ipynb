{
 "cells": [
  {
   "cell_type": "code",
   "execution_count": 9,
   "metadata": {},
   "outputs": [],
   "source": [
    "import pandas as pd\n",
    "import numpy as np\n",
    "from ark_tweet_nlp import CMUTweetTagger\n",
    "from tqdm import tqdm_notebook as tqdm\n",
    "from nltk.stem import WordNetLemmatizer\n",
    "from sklearn.metrics import f1_score, precision_score, recall_score, roc_auc_score\n",
    "import pickle\n",
    "import copy\n",
    "import re"
   ]
  },
  {
   "cell_type": "code",
   "execution_count": 3,
   "metadata": {},
   "outputs": [],
   "source": [
    "\"\"\"Loading the data\"\"\"\n",
    "data = pd.read_csv('basic_data.csv', sep='\\t', index_col=0)"
   ]
  },
  {
   "cell_type": "code",
   "execution_count": 5,
   "metadata": {},
   "outputs": [],
   "source": [
    "\"\"\"Function to collapse repetitions\"\"\"\n",
    "def collapse_repeat(s):\n",
    "    if len(s)<=2:\n",
    "        return s\n",
    "    else:\n",
    "        ind_trm = []\n",
    "        k = 0\n",
    "        while k <= len(s) - 2:\n",
    "            if s[k]==s[k+1]:\n",
    "                i = k + 2\n",
    "                while i<len(s) and s[i]==s[k]:\n",
    "                    ind_trm.append(i)\n",
    "                    i += 1\n",
    "                k = i\n",
    "            else:\n",
    "                k += 1\n",
    "        if len(ind_trm)==0:\n",
    "            return s\n",
    "        else:\n",
    "            return ''.join([s[i] for i in range(len(s)) if i not in ind_trm])"
   ]
  },
  {
   "cell_type": "code",
   "execution_count": 7,
   "metadata": {},
   "outputs": [],
   "source": [
    "\"\"\"Funciton to normalize verbs\"\"\"\n",
    "def normalize(text):\n",
    "    first = text.lower().replace(\"'ll\",' will').replace(\"'re\",' are').replace(\"'ve\", ' have').replace(\"'m\",' am')\n",
    "    second = first.replace(\"don't\",'dont').replace(\"haven't\",'havent').replace(\"wouldn't\",'wouldnt').replace(\"couldn't\",'couldnt').replace(\"can't\",\"cant\").replace(\"won't\",'wont').replace(\"didn't\",'didnt').replace(\"shouldn't\",'shouldnt')\n",
    "    return second"
   ]
  },
  {
   "cell_type": "code",
   "execution_count": 8,
   "metadata": {},
   "outputs": [
    {
     "data": {
      "text/plain": [
       "{'britishairways': 'ba',\n",
       " 'british_airways': 'ba',\n",
       " '@british_airways': 'ba',\n",
       " '@britishairways': 'ba',\n",
       " '#british_airways': 'ba',\n",
       " '#britishairways': 'ba',\n",
       " 'british airways': 'ba',\n",
       " 'icelandair': 'icelandair',\n",
       " 'iceland_air': 'icelandair',\n",
       " '@iceland_air': 'icelandair',\n",
       " '@icelandair': 'icelandair',\n",
       " '#iceland_air': 'icelandair',\n",
       " '#icelandair': 'icelandair',\n",
       " 'iceland air': 'icelandair',\n",
       " '@vueling': 'vueling',\n",
       " 'vueling': 'vueling',\n",
       " '#vueling': 'vueling',\n",
       " 'easyjet': 'easyjet',\n",
       " 'easy_jet': 'easyjet',\n",
       " '@easy_jet': 'easyjet',\n",
       " '@easyjet': 'easyjet',\n",
       " '#easy_jet': 'easyjet',\n",
       " '#easyjet': 'easyjet',\n",
       " 'easy jet': 'easyjet',\n",
       " 'aircanada': 'aircanada',\n",
       " 'air_canada': 'aircanada',\n",
       " '@air_canada': 'aircanada',\n",
       " '@aircanada': 'aircanada',\n",
       " '#air_canada': 'aircanada',\n",
       " '#aircanada': 'aircanada',\n",
       " 'air canada': 'aircanada',\n",
       " 'americanairways': 'americanairways',\n",
       " 'american_airways': 'americanairways',\n",
       " '@american_airways': 'americanairways',\n",
       " '@americanairways': 'americanairways',\n",
       " '#american_airways': 'americanairways',\n",
       " '#americanairways': 'americanairways',\n",
       " 'american airways': 'americanairways',\n",
       " 'unitedairlines': 'unitedairlines',\n",
       " 'united_airlines': 'unitedairlines',\n",
       " '@united_airlines': 'unitedairlines',\n",
       " '@unitedairlines': 'unitedairlines',\n",
       " '#united_airlines': 'unitedairlines',\n",
       " '#unitedairlines': 'unitedairlines',\n",
       " 'united airlines': 'unitedairlines',\n",
       " 'qatarairways': 'qatarairways',\n",
       " 'qatar_airways': 'qatarairways',\n",
       " '@qatar_airways': 'qatarairways',\n",
       " '@qatarairways': 'qatarairways',\n",
       " '#qatar_airways': 'qatarairways',\n",
       " '#qatarairways': 'qatarairways',\n",
       " 'qatar airways': 'qatarairways'}"
      ]
     },
     "execution_count": 8,
     "metadata": {},
     "output_type": "execute_result"
    }
   ],
   "source": [
    "\"\"\"Building company designations\"\"\"\n",
    "companies = [['british','airways'],['iceland','air'],['vueling'],['easy','jet'],['air','canada'],['american','airways'],['united','airlines'],['qatar','airways']]\n",
    "\n",
    "def generate_versions(name):\n",
    "    if len(list(name))>=2:\n",
    "        return [''.join(list(name)), '_'.join(list(name)), '@'+'_'.join(list(name)), '@'+''.join(list(name)), '#'+'_'.join(list(name)), '#'+''.join(list(name)),\n",
    "               ' '.join(list(name))]\n",
    "    else:\n",
    "        return ['@'+name[0],name[0],'#'+name[0]]\n",
    "\n",
    "ba = generate_versions(companies[0])\n",
    "designate = {word: 'ba' for word in ba}\n",
    "\n",
    "for c in companies[1:]:\n",
    "    des = generate_versions(c)\n",
    "    designate.update({word: ''.join(c) for word in des})\n",
    "designate"
   ]
  },
  {
   "cell_type": "code",
   "execution_count": 10,
   "metadata": {},
   "outputs": [],
   "source": [
    "\"\"\"Function to replace the designations\"\"\"\n",
    "def replace_designate(text):\n",
    "    local = copy.deepcopy(text)\n",
    "    for w in designate.keys():\n",
    "        local = local.replace(w+' ',designate[w]+' ')\n",
    "    return local"
   ]
  },
  {
   "cell_type": "code",
   "execution_count": 12,
   "metadata": {},
   "outputs": [
    {
     "data": {
      "application/vnd.jupyter.widget-view+json": {
       "model_id": "20b73a211472431c93dc10024e19fc83",
       "version_major": 2,
       "version_minor": 0
      },
      "text/plain": [
       "HBox(children=(IntProgress(value=0, max=11540), HTML(value='')))"
      ]
     },
     "metadata": {},
     "output_type": "display_data"
    },
    {
     "name": "stdout",
     "output_type": "stream",
     "text": [
      "\n"
     ]
    }
   ],
   "source": [
    "\"\"\"Preprocessing the data\"\"\"\n",
    "data['text'] = data.text.apply(collapse_repeat)\n",
    "data['text'] = data.text.apply(lambda x: x.replace('\"',''))\n",
    "data['text'] = data.text.apply(normalize)\n",
    "data['text'] = data.text.apply(replace_designate)\n",
    "\n",
    "def tagg(x):\n",
    "    return(pd.DataFrame(CMUTweetTagger.runtagger_parse([x])[0], columns=['word','tag','score']))\n",
    "\n",
    "tag_text = []\n",
    "for k in tqdm(range(data.shape[0])):\n",
    "    tag_text.append(tagg(data.text.iloc[k]))\n",
    "\n",
    "data['tag_df'] = pd.Series(tag_text)\n",
    "\n",
    "pickle.dump(data, open('./label_tag_data.p', 'wb'), protocol=pickle.HIGHEST_PROTOCOL)"
   ]
  }
 ],
 "metadata": {
  "kernelspec": {
   "display_name": "Python 3",
   "language": "python",
   "name": "python3"
  },
  "language_info": {
   "codemirror_mode": {
    "name": "ipython",
    "version": 3
   },
   "file_extension": ".py",
   "mimetype": "text/x-python",
   "name": "python",
   "nbconvert_exporter": "python",
   "pygments_lexer": "ipython3",
   "version": "3.6.5"
  }
 },
 "nbformat": 4,
 "nbformat_minor": 2
}
